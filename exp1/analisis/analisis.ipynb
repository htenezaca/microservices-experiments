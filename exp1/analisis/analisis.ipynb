{
 "cells": [
  {
   "cell_type": "markdown",
   "metadata": {},
   "source": [
    "# Análisis de los datos recopilados durante el Experimento 1"
   ]
  },
  {
   "cell_type": "markdown",
   "metadata": {},
   "source": [
    "## Conexto del experimento y de los datos a analizar."
   ]
  },
  {
   "cell_type": "markdown",
   "metadata": {},
   "source": [
    "Dentro de este experimento se busca validar las ideas de arquitectura relacionadas con  la implementacion de la táctica de _Recuperación de Fallas_  para favorecer  la disponibilidad mediante a traves de la estrategía de _Retry_ o reintento, por otro lado hemos implementado escalamiento horizontal al agregar 2 instancias más de *gestión de accionables*. Se ha configurado nginx como API Gateway, donde se realiza hasta un máximo de 5 reintentos de la petición en caso de que la petición falle 5 veces se retorna un error 500 al cliente."
   ]
  },
  {
   "cell_type": "markdown",
   "metadata": {},
   "source": [
    "Para efectos del experimento generamos valores randomicos dentro de este conjunto [0.0, 1.0) en cada una de las peticiones, esto simulan el comportamiento defectuoso que pueda tener el sistema para responder a una request. Si el valor generado es menor a 0.25 (umbral o threshold) la petición se considera fallida, de lo contrario se considera exitosa. "
   ]
  },
  {
   "cell_type": "markdown",
   "metadata": {},
   "source": [
    "_Antececentes_ \n",
    "\n",
    "Hemos probado una primera versión de la arquitectura con un solo nodo de *gestión de accionables*, sin la implementación de la táctica de _Recuperación de Fallas_ y los resultados fueron los siguientes:\n",
    "\n",
    "- 68% de las peticiones fueron fallidas\n",
    "\n",
    "Puede que exista un factor que sesgue el resultado de lo mencionado en este parrafo, ya que el valor de threshold era de 0.5 y no de 0.25 como en el experimento actual."
   ]
  },
  {
   "cell_type": "markdown",
   "metadata": {},
   "source": [
    "###  Datos a analizar"
   ]
  },
  {
   "cell_type": "markdown",
   "metadata": {},
   "source": [
    "*id* - Un valor uuid que identifica de forma única a cada petición.\n",
    "\n",
    "\n",
    "*start* - La fecha y hora en la que se realizó la petición.\n",
    "\n",
    "\n",
    "*end* - La fecha y hora en la que se recibió la respuesta.\n",
    "\n",
    "\n",
    "*delta* - Tiempo de procesamiento en milisegundos.\n",
    "\n",
    "\n",
    "*status* - El estado de la petición, si fue procesada correctamente o no. (True/False)"
   ]
  },
  {
   "cell_type": "code",
   "execution_count": 17,
   "metadata": {},
   "outputs": [],
   "source": [
    "import pandas as pd\n",
    "import matplotlib.pyplot as plt\n",
    "%matplotlib inline"
   ]
  },
  {
   "cell_type": "markdown",
   "metadata": {},
   "source": [
    "## Cargar los datos de los requests de entrada y las respuestas de salida"
   ]
  },
  {
   "cell_type": "code",
   "execution_count": 18,
   "metadata": {},
   "outputs": [],
   "source": [
    "input = pd.read_csv(\"../services/unidad_monitoreo/input.csv\")\n",
    "responses = pd.read_csv(\"../services/gestion_accionables/responses.csv\",  names=['id', 'start', 'end', 'delta', 'status'])"
   ]
  },
  {
   "cell_type": "markdown",
   "metadata": {},
   "source": [
    "## Requests de entrada generados en la Unidad de monitoreo vs Request recibidas por el módulo gestión de accionables"
   ]
  },
  {
   "cell_type": "code",
   "execution_count": 19,
   "metadata": {},
   "outputs": [],
   "source": [
    "total_input_requests = input['id'].unique().size\n",
    "total_received_requests_uuid = responses['id'].unique().size"
   ]
  },
  {
   "cell_type": "markdown",
   "metadata": {},
   "source": [
    "### Logs de los requests de entrada generados en la Unidad de monitoreo"
   ]
  },
  {
   "cell_type": "code",
   "execution_count": 20,
   "metadata": {},
   "outputs": [
    {
     "data": {
      "text/html": [
       "<div>\n",
       "<style scoped>\n",
       "    .dataframe tbody tr th:only-of-type {\n",
       "        vertical-align: middle;\n",
       "    }\n",
       "\n",
       "    .dataframe tbody tr th {\n",
       "        vertical-align: top;\n",
       "    }\n",
       "\n",
       "    .dataframe thead th {\n",
       "        text-align: right;\n",
       "    }\n",
       "</style>\n",
       "<table border=\"1\" class=\"dataframe\">\n",
       "  <thead>\n",
       "    <tr style=\"text-align: right;\">\n",
       "      <th></th>\n",
       "      <th>id</th>\n",
       "      <th>start</th>\n",
       "      <th>end</th>\n",
       "      <th>delta</th>\n",
       "      <th>status</th>\n",
       "    </tr>\n",
       "  </thead>\n",
       "  <tbody>\n",
       "    <tr>\n",
       "      <th>0</th>\n",
       "      <td>9ae82d67-0327-4d61-b50e-9f61690c885b</td>\n",
       "      <td>2022-09-11T15:23:05.520226</td>\n",
       "      <td>2022-09-11T15:23:05.529590</td>\n",
       "      <td>9364</td>\n",
       "      <td>True</td>\n",
       "    </tr>\n",
       "    <tr>\n",
       "      <th>1</th>\n",
       "      <td>af1b0e4a-98e5-4469-81b0-1c1d6391ff56</td>\n",
       "      <td>2022-09-11T15:23:05.830987</td>\n",
       "      <td>2022-09-11T15:23:05.841803</td>\n",
       "      <td>10816</td>\n",
       "      <td>True</td>\n",
       "    </tr>\n",
       "    <tr>\n",
       "      <th>2</th>\n",
       "      <td>7e301ab2-7738-49d8-87fb-a8b7880568f6</td>\n",
       "      <td>2022-09-11T15:23:06.143918</td>\n",
       "      <td>2022-09-11T15:23:06.158013</td>\n",
       "      <td>14095</td>\n",
       "      <td>True</td>\n",
       "    </tr>\n",
       "    <tr>\n",
       "      <th>3</th>\n",
       "      <td>111f5ff8-4bdf-4b0e-bffe-cab7a689466b</td>\n",
       "      <td>2022-09-11T15:23:06.459330</td>\n",
       "      <td>2022-09-11T15:23:06.482717</td>\n",
       "      <td>23387</td>\n",
       "      <td>True</td>\n",
       "    </tr>\n",
       "    <tr>\n",
       "      <th>4</th>\n",
       "      <td>5162992b-0ffa-47fd-b83c-38a594b27c8d</td>\n",
       "      <td>2022-09-11T15:23:06.784153</td>\n",
       "      <td>2022-09-11T15:23:06.800086</td>\n",
       "      <td>15933</td>\n",
       "      <td>True</td>\n",
       "    </tr>\n",
       "  </tbody>\n",
       "</table>\n",
       "</div>"
      ],
      "text/plain": [
       "                                     id                       start  \\\n",
       "0  9ae82d67-0327-4d61-b50e-9f61690c885b  2022-09-11T15:23:05.520226   \n",
       "1  af1b0e4a-98e5-4469-81b0-1c1d6391ff56  2022-09-11T15:23:05.830987   \n",
       "2  7e301ab2-7738-49d8-87fb-a8b7880568f6  2022-09-11T15:23:06.143918   \n",
       "3  111f5ff8-4bdf-4b0e-bffe-cab7a689466b  2022-09-11T15:23:06.459330   \n",
       "4  5162992b-0ffa-47fd-b83c-38a594b27c8d  2022-09-11T15:23:06.784153   \n",
       "\n",
       "                          end  delta  status  \n",
       "0  2022-09-11T15:23:05.529590   9364    True  \n",
       "1  2022-09-11T15:23:05.841803  10816    True  \n",
       "2  2022-09-11T15:23:06.158013  14095    True  \n",
       "3  2022-09-11T15:23:06.482717  23387    True  \n",
       "4  2022-09-11T15:23:06.800086  15933    True  "
      ]
     },
     "execution_count": 20,
     "metadata": {},
     "output_type": "execute_result"
    }
   ],
   "source": [
    "input.head()"
   ]
  },
  {
   "cell_type": "markdown",
   "metadata": {},
   "source": [
    "### Logs de los requests recibidos por el módulo gestión de accionables"
   ]
  },
  {
   "cell_type": "code",
   "execution_count": 21,
   "metadata": {},
   "outputs": [
    {
     "data": {
      "text/html": [
       "<div>\n",
       "<style scoped>\n",
       "    .dataframe tbody tr th:only-of-type {\n",
       "        vertical-align: middle;\n",
       "    }\n",
       "\n",
       "    .dataframe tbody tr th {\n",
       "        vertical-align: top;\n",
       "    }\n",
       "\n",
       "    .dataframe thead th {\n",
       "        text-align: right;\n",
       "    }\n",
       "</style>\n",
       "<table border=\"1\" class=\"dataframe\">\n",
       "  <thead>\n",
       "    <tr style=\"text-align: right;\">\n",
       "      <th></th>\n",
       "      <th>id</th>\n",
       "      <th>start</th>\n",
       "      <th>end</th>\n",
       "      <th>delta</th>\n",
       "      <th>status</th>\n",
       "    </tr>\n",
       "  </thead>\n",
       "  <tbody>\n",
       "    <tr>\n",
       "      <th>0</th>\n",
       "      <td>9ae82d67-0327-4d61-b50e-9f61690c885b</td>\n",
       "      <td>2022-09-11T15:23:05.525232</td>\n",
       "      <td>2022-09-11T15:23:05.525306</td>\n",
       "      <td>74</td>\n",
       "      <td>True</td>\n",
       "    </tr>\n",
       "    <tr>\n",
       "      <th>1</th>\n",
       "      <td>af1b0e4a-98e5-4469-81b0-1c1d6391ff56</td>\n",
       "      <td>2022-09-11T15:23:05.836381</td>\n",
       "      <td>2022-09-11T15:23:05.836499</td>\n",
       "      <td>118</td>\n",
       "      <td>True</td>\n",
       "    </tr>\n",
       "    <tr>\n",
       "      <th>2</th>\n",
       "      <td>7e301ab2-7738-49d8-87fb-a8b7880568f6</td>\n",
       "      <td>2022-09-11T15:23:06.150876</td>\n",
       "      <td>2022-09-11T15:23:06.150996</td>\n",
       "      <td>120</td>\n",
       "      <td>True</td>\n",
       "    </tr>\n",
       "    <tr>\n",
       "      <th>3</th>\n",
       "      <td>111f5ff8-4bdf-4b0e-bffe-cab7a689466b</td>\n",
       "      <td>2022-09-11T15:23:06.467079</td>\n",
       "      <td>2022-09-11T15:23:06.467264</td>\n",
       "      <td>185</td>\n",
       "      <td>False</td>\n",
       "    </tr>\n",
       "    <tr>\n",
       "      <th>4</th>\n",
       "      <td>111f5ff8-4bdf-4b0e-bffe-cab7a689466b</td>\n",
       "      <td>2022-09-11T15:23:06.474811</td>\n",
       "      <td>2022-09-11T15:23:06.474997</td>\n",
       "      <td>186</td>\n",
       "      <td>True</td>\n",
       "    </tr>\n",
       "  </tbody>\n",
       "</table>\n",
       "</div>"
      ],
      "text/plain": [
       "                                     id                       start  \\\n",
       "0  9ae82d67-0327-4d61-b50e-9f61690c885b  2022-09-11T15:23:05.525232   \n",
       "1  af1b0e4a-98e5-4469-81b0-1c1d6391ff56  2022-09-11T15:23:05.836381   \n",
       "2  7e301ab2-7738-49d8-87fb-a8b7880568f6  2022-09-11T15:23:06.150876   \n",
       "3  111f5ff8-4bdf-4b0e-bffe-cab7a689466b  2022-09-11T15:23:06.467079   \n",
       "4  111f5ff8-4bdf-4b0e-bffe-cab7a689466b  2022-09-11T15:23:06.474811   \n",
       "\n",
       "                          end  delta  status  \n",
       "0  2022-09-11T15:23:05.525306     74    True  \n",
       "1  2022-09-11T15:23:05.836499    118    True  \n",
       "2  2022-09-11T15:23:06.150996    120    True  \n",
       "3  2022-09-11T15:23:06.467264    185   False  \n",
       "4  2022-09-11T15:23:06.474997    186    True  "
      ]
     },
     "execution_count": 21,
     "metadata": {},
     "output_type": "execute_result"
    }
   ],
   "source": [
    "responses.head()"
   ]
  },
  {
   "cell_type": "code",
   "execution_count": 22,
   "metadata": {},
   "outputs": [
    {
     "data": {
      "text/html": [
       "<div>\n",
       "<style scoped>\n",
       "    .dataframe tbody tr th:only-of-type {\n",
       "        vertical-align: middle;\n",
       "    }\n",
       "\n",
       "    .dataframe tbody tr th {\n",
       "        vertical-align: top;\n",
       "    }\n",
       "\n",
       "    .dataframe thead th {\n",
       "        text-align: right;\n",
       "    }\n",
       "</style>\n",
       "<table border=\"1\" class=\"dataframe\">\n",
       "  <thead>\n",
       "    <tr style=\"text-align: right;\">\n",
       "      <th></th>\n",
       "      <th>total</th>\n",
       "    </tr>\n",
       "  </thead>\n",
       "  <tbody>\n",
       "    <tr>\n",
       "      <th>total_input_requests</th>\n",
       "      <td>100</td>\n",
       "    </tr>\n",
       "    <tr>\n",
       "      <th>total_requests_processed</th>\n",
       "      <td>100</td>\n",
       "    </tr>\n",
       "  </tbody>\n",
       "</table>\n",
       "</div>"
      ],
      "text/plain": [
       "                          total\n",
       "total_input_requests        100\n",
       "total_requests_processed    100"
      ]
     },
     "execution_count": 22,
     "metadata": {},
     "output_type": "execute_result"
    }
   ],
   "source": [
    "respuestas = pd.DataFrame({ 'total': [total_input_requests, total_received_requests_uuid] }, index=['total_input_requests', 'total_requests_processed'])\n",
    "respuestas\n"
   ]
  },
  {
   "cell_type": "code",
   "execution_count": 23,
   "metadata": {},
   "outputs": [
    {
     "data": {
      "text/plain": [
       "<AxesSubplot:title={'center':'Input requests vs requests processed'}>"
      ]
     },
     "execution_count": 23,
     "metadata": {},
     "output_type": "execute_result"
    },
    {
     "data": {
      "image/png": "[encoded data removed]",
      "text/plain": [
       "<Figure size 576x216 with 1 Axes>"
      ]
     },
     "metadata": {
      "needs_background": "light"
     },
     "output_type": "display_data"
    }
   ],
   "source": [
    "respuestas.plot(kind='barh', title='Input requests vs requests processed', figsize=(8, 3), legend=False, fontsize=12)"
   ]
  },
  {
   "cell_type": "markdown",
   "metadata": {},
   "source": [
    "De acuerdo a estos datos descibe que de un total de 100 solicitudes de entrada, 100 fueron recibidas por el módulo gestión de accionables. Esto quiere decir que no hubo ninguna solicitud de entrada que no haya sido recibida por el módulo gestión de accionables."
   ]
  },
  {
   "cell_type": "markdown",
   "metadata": {},
   "source": [
    "## Solicitudes procesadas exitosamente vs Solicitudes no procesadas"
   ]
  },
  {
   "cell_type": "code",
   "execution_count": 24,
   "metadata": {},
   "outputs": [],
   "source": [
    "responses_successfully = responses[responses['status'] == True]['id'].unique().size\n",
    "responses_failed = total_received_requests_uuid - responses_successfully"
   ]
  },
  {
   "cell_type": "code",
   "execution_count": 25,
   "metadata": {},
   "outputs": [
    {
     "data": {
      "text/plain": [
       "<AxesSubplot:title={'center':'Succesful vs Fail'}>"
      ]
     },
     "execution_count": 25,
     "metadata": {},
     "output_type": "execute_result"
    },
    {
     "data": {
      "image/png": "[encoded data removed]",
      "text/plain": [
       "<Figure size 576x216 with 1 Axes>"
      ]
     },
     "metadata": {
      "needs_background": "light"
     },
     "output_type": "display_data"
    }
   ],
   "source": [
    "# Graficar los resultados en un grafico de barras horizontal\n",
    "resultados = pd.DataFrame({ 'total': [responses_successfully, responses_failed] }, index=['responses_successfully', 'responses_failed'])\n",
    "resultados.plot(kind='barh', title='Succesful vs Fail', figsize=(8, 3), legend=False, fontsize=12)"
   ]
  },
  {
   "cell_type": "markdown",
   "metadata": {},
   "source": [
    "Deacuerdo a esta grafica, obsevamos que de un total de 100 solicitudes de entrada, 100 fueron procesadas exitosamente. Esto quiere decir que no hubo ninguna solicitud de entrada que no haya sido procesada exitosamente por el módulo gestión de accionables."
   ]
  },
  {
   "cell_type": "markdown",
   "metadata": {},
   "source": [
    "## Solicitudes totales generadas vs Solicitudes totales procesadas"
   ]
  },
  {
   "cell_type": "markdown",
   "metadata": {},
   "source": [
    "Dentro de este apartado se muestra la cantidad de solicitudes totales generadas por la unidad de monitoreo vs solicitudes totales procesadas por la gestión de accionables sin importar si fueron exitosas o fallidas en el experimento. Ya que aqui están incluidas las solicitudes que fueron reintentadas."
   ]
  },
  {
   "cell_type": "code",
   "execution_count": 26,
   "metadata": {},
   "outputs": [],
   "source": [
    "all_received_requests = responses['id'].size"
   ]
  },
  {
   "cell_type": "code",
   "execution_count": 28,
   "metadata": {},
   "outputs": [
    {
     "data": {
      "text/plain": [
       "<AxesSubplot:title={'center':'All received requests vs total input requests'}>"
      ]
     },
     "execution_count": 28,
     "metadata": {},
     "output_type": "execute_result"
    },
    {
     "data": {
      "image/png": "[encoded data removed]",
      "text/plain": [
       "<Figure size 576x216 with 1 Axes>"
      ]
     },
     "metadata": {
      "needs_background": "light"
     },
     "output_type": "display_data"
    }
   ],
   "source": [
    "all_requests = pd.DataFrame({ 'total': [all_received_requests, total_input_requests] }, index=['all_received_requests', 'total_input_requests'])\n",
    "all_requests.plot(kind='barh', title='All received requests vs total input requests', figsize=(8, 3), legend=False, fontsize=12)"
   ]
  },
  {
   "cell_type": "markdown",
   "metadata": {},
   "source": [
    "La gráfica representa que la _gestión de accionables_ procesó 133 solicitudes, a partir de 100 solicitudes generadas por la unidad de monitoreo. Esto quiere decir que hubo 33 solicitudes que fueron reintentadas, eso deducción es válida si y solo si con antelación sabemos el número de solicitudes fueron procesadas exitosamente: es ahí donde nos ayudamos de gráfica anterior donde nos dice que 100 solicitudes fueron procesadas exitosamente y 0 fueron fallidas luego de los reintentos."
   ]
  },
  {
   "cell_type": "markdown",
   "metadata": {},
   "source": [
    "## Medir los reintentos de las solicitudes"
   ]
  },
  {
   "cell_type": "code",
   "execution_count": null,
   "metadata": {},
   "outputs": [
    {
     "data": {
      "text/plain": [
       "<AxesSubplot:title={'center':'Reintentos'}, ylabel='Frequency'>"
      ]
     },
     "execution_count": 11,
     "metadata": {},
     "output_type": "execute_result"
    },
    {
     "data": {
      "image/png": "[encoded data removed]",
      "text/plain": [
       "<Figure size 576x216 with 1 Axes>"
      ]
     },
     "metadata": {
      "needs_background": "light"
     },
     "output_type": "display_data"
    }
   ],
   "source": [
    "reintentos = responses.groupby('id').size().reset_index(name='reintentos')\n",
    "reintentos.plot(kind='hist', title='Reintentos', figsize=(8, 3), legend=False, fontsize=12)"
   ]
  },
  {
   "cell_type": "code",
   "execution_count": 32,
   "metadata": {},
   "outputs": [
    {
     "data": {
      "text/plain": [
       "<AxesSubplot:title={'center':'Reintentos'}, ylabel='reintentos'>"
      ]
     },
     "execution_count": 32,
     "metadata": {},
     "output_type": "execute_result"
    },
    {
     "data": {
      "image/png": "[encoded data removed]",
      "text/plain": [
       "<Figure size 432x432 with 1 Axes>"
      ]
     },
     "metadata": {},
     "output_type": "display_data"
    }
   ],
   "source": [
    "# grafico de pie de los reintentos\n",
    "reintentos['reintentos'].value_counts().plot(kind='pie', title='Reintentos', figsize=(6, 6), legend=True, fontsize=12)"
   ]
  },
  {
   "cell_type": "markdown",
   "metadata": {},
   "source": [
    "La _sección 1_ de la gráfica nos muestra que de un total de 100 solicitudes, 79% solicitudes fueron procesadas exitosamente en la primera vez, mientras que 21% solicitudes fueron procesadas exitosamente mediante máximo 5 reintentos más, que valida el uso de la táctica de _Recuperación de Fallas_ en la arquitectura."
   ]
  }
 ],
 "metadata": {
  "kernelspec": {
   "display_name": "Python 3 (ipykernel)",
   "language": "python",
   "name": "python3"
  },
  "language_info": {
   "codemirror_mode": {
    "name": "ipython",
    "version": 3
   },
   "file_extension": ".py",
   "mimetype": "text/x-python",
   "name": "python",
   "nbconvert_exporter": "python",
   "pygments_lexer": "ipython3",
   "version": "3.9.12"
  },
  "vscode": {
   "interpreter": {
    "hash": "f517b8b5230dcf14fc23409e8494dd512893ddd446b11de3335dfaecae6547b5"
   }
  }
 },
 "nbformat": 4,
 "nbformat_minor": 2
}
